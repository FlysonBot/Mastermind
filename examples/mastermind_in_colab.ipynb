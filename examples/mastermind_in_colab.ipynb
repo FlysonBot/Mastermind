{
  "nbformat": 4,
  "nbformat_minor": 0,
  "metadata": {
    "colab": {
      "provenance": [],
      "authorship_tag": "ABX9TyN9Jg/oLKpF/6yOKiab8vGE",
      "include_colab_link": true
    },
    "kernelspec": {
      "name": "python3",
      "display_name": "Python 3"
    },
    "language_info": {
      "name": "python"
    }
  },
  "cells": [
    {
      "cell_type": "markdown",
      "metadata": {
        "id": "view-in-github",
        "colab_type": "text"
      },
      "source": [
        "<a href=\"https://colab.research.google.com/github/FlysonBot/Mastermind/blob/main/mastermind_in_colab.ipynb\" target=\"_parent\"><img src=\"https://colab.research.google.com/assets/colab-badge.svg\" alt=\"Open In Colab\"/></a>"
      ]
    },
    {
      "cell_type": "code",
      "execution_count": null,
      "metadata": {
        "id": "QzXJD2r9nzoz"
      },
      "outputs": [],
      "source": [
        "!pip install git+https://github.com/FlysonBot/Mastermind.git  # install the repository"
      ]
    },
    {
      "cell_type": "code",
      "source": [
        "!mastermind  # run the program"
      ],
      "metadata": {
        "id": "bSI81r-zoLiT"
      },
      "execution_count": null,
      "outputs": []
    }
  ]
}