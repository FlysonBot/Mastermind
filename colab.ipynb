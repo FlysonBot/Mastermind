{
 "cells": [
  {
   "cell_type": "code",
   "execution_count": null,
   "metadata": {
    "vscode": {
     "languageId": "plaintext"
    }
   },
   "outputs": [],
   "source": [
    "from main import GameSimulator\n",
    "\n",
    "if __name__ == \"__main__\":\n",
    "    game_simulator = GameSimulator()\n",
    "    game_simulator.run()"
   ]
  }
 ],
 "metadata": {
  "language_info": {
   "name": "python"
  }
 },
 "nbformat": 4,
 "nbformat_minor": 2
}
